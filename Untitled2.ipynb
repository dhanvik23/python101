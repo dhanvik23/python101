{
  "nbformat": 4,
  "nbformat_minor": 0,
  "metadata": {
    "colab": {
      "provenance": [],
      "authorship_tag": "ABX9TyM1IbbBcR2c5gN4FqfYXeRa",
      "include_colab_link": true
    },
    "kernelspec": {
      "name": "python3",
      "display_name": "Python 3"
    },
    "language_info": {
      "name": "python"
    }
  },
  "cells": [
    {
      "cell_type": "markdown",
      "metadata": {
        "id": "view-in-github",
        "colab_type": "text"
      },
      "source": [
        "<a href=\"https://colab.research.google.com/github/dhanvik23/python101/blob/main/Untitled2.ipynb\" target=\"_parent\"><img src=\"https://colab.research.google.com/assets/colab-badge.svg\" alt=\"Open In Colab\"/></a>"
      ]
    },
    {
      "cell_type": "code",
      "execution_count": 4,
      "metadata": {
        "colab": {
          "base_uri": "https://localhost:8080/"
        },
        "id": "i-661Bjwep2L",
        "outputId": "efd34315-00bb-4255-947d-752d4c636251"
      },
      "outputs": [
        {
          "output_type": "stream",
          "name": "stdout",
          "text": [
            "Unique words in both files:\n",
            "['\"', '\"#', '\"#@title', '\"\\'\\'\\'\"', '\"\\'\\'\\'\\\\n\",', '\"(symmetric_difference)\"', '\"1.', '\"2.', '\"3,', '\"3.', '\"4.', '\"4xfcPvLyGkUD\"', '\"5.The', '\"6IP5gn17Jlyz\"', '\"6KhJYGl-GJ-H\"', '\"Course', '\"Create', '\"Download', '\"Each', '\"Enhance', '\"Ex.', '\"Hint:', '\"If', '\"It', '\"N8a4OoNwF5xK\"', '\"Once', '\"PFWVWkPUHFJb\"', '\"PbzGK47PDNH1\"', '\"Porgram', '\"Program', '\"Python', '\"Reads', '\"The', '\"Then,', '\"U.S.', '\"VsJ1C1NqIaOR\"', '\"When', '\"Write', '\"\\\\n\",', '\"along', '\"ant', '\"ant,', '\"cCmOUIqUJOvP\"', '\"cell_type\":', '\"cells\":', '\"code\",', '\"colab\":', '\"display_name\":', '\"email', '\"execution_count\":', '\"file_1', '\"file_1.difference(file_2)\\\\n\",', '\"file_2', '\"file_2.difference(file_1)\\\\n\",', '\"following', '\"from', '\"id\":', '\"in', '\"kernelspec\":', '\"kmOINiwuC2TJ\"', '\"language_info\":', '\"listing', '\"markdown\",', '\"metadata\":', '\"name', '\"name\":', '\"nbformat\":', '\"nbformat_minor\":', '\"outputs\":', '\"ox1rmXuHCO-O\"', '\"points.', '\"provenance\":', '\"python\"', '\"python3\",', '\"screen.\\\\n\",', '\"source\":', '\"that', '\"vg0-6zPKCGhV\"', '\"will', '%;', '&;', '(It', '(Programming', '(inersection)\\\\n\",', '(the', '(union)\\\\n\",', '*\\\\n\",', '-', '.', '0,', '1', '1.Course', '10.Word', '10.\\\\n\",', '11', '11,', '1903', '1903-2009.\\\\n\",', '2', '2.Captial', '2009.', '21', '21\\\\n\",', '3\"', '3.File', '4,', '4.Unique', '5.Word', '6.File', '7.World', '8.Name', '9.Blackjack', '9:', ';', '=', 'A', 'Aces', 'Addresses\\\\n\",', 'All', 'Analysis\\\\n\",', 'B', 'Blackjack', 'C', 'Chapter', 'Decryption\\\\n\",', 'Dictionaries', 'Email', 'Encryption', 'Exercises)\"', 'File', 'Frequency\\\\n\",', 'In', 'Index\\\\n\",', 'Individual', 'Information\\\\n\",', 'Instructor', 'Jacks,', 'Key', 'Key:', 'Meeting', 'NewType\\\\n\",', 'Numeric', 'Quiz\\\\n\",', 'Room', 'Series', 'Series.\\\\n\",', 'Series’', 'Sets', 'Simulation\\\\n\",', \"State's\", 'Store', 'The', 'Use', 'Value\\\\n\",', 'Values:', 'Valuw\\\\n\",', 'Winner\\\\n\",', 'Words\\\\n\",', 'World', 'WorldSeriesWinners.txt,', '[', '[]', '\\\\n\",', ']', '],', 'a', 'according', 'ace', 'ace,', 'add', 'address,', 'address.', 'addresses', 'all', 'alphabet.', 'alphabetical', 'also', 'an', 'analyses.\\\\n\",', 'and', 'and\\\\n\",', 'another', 'ant\\\\n\",', 'appear', 'appears.', 'are', 'as', 'asking', 'assign', 'assigned', 'at', 'be', 'been', 'between', 'both', 'both.\\\\n\",', 'boy', 'boy,', 'built,', 'but', 'by', 'capital', 'capital.\\\\n\",', 'card', 'card_dealer.py', 'cards', 'case', 'case,', 'cat', 'cat,', 'change', 'choice.\\\\n\",', 'chronological', 'contain', 'contained', 'contains', 'contents', 'contents\\\\n\",', 'correct', 'course', 'create', 'deal', 'dealt', 'decide', 'deck.\\\\n\",', 'decrypted', 'delete', 'depending', 'dictionaries:\\\\n\",', 'dictionary', 'dictionary,', 'dictionary.', 'dictionary:\\\\n\",', 'display', 'displaying', 'displays', 'dog', 'each', 'either', 'element', 'elephant', 'elephant,', 'email', 'encrypted', 'enter', 'exceed', 'existing', 'exits', 'file', 'file,', 'file.', 'file.\\\\n\",', 'file_1\\\\n\",', 'file_2\\\\n\",', 'files', 'files.', 'files.\\\\n\",', 'first', 'first.\\\\n\",', 'fish', 'fish\\\\n\",', 'following', 'for', 'found', 'found.\\\\n\",', 'found\\\\n\",', 'fox', 'fox\\\\n\",', 'frequency', 'from', 'game', 'hand', 'hands\\\\n\",', 'happens,', 'has', 'have', 'import', 'in', 'incorrect', 'individual', 'instructor,', 'is', 'it', 'it.\\\\n\",', 'its', 'keep', 'keeps', 'key)', 'key-value', 'keys', 'kings', 'known', 'let', 'lets', 'letter', 'line', 'list', 'listing', 'lists:\\\\n\",', 'look', 'makes', 'meeting', 'menu', 'more', 'name', 'names', 'neither', 'new', 'new\\\\n\",', 'newt\\\\n\",', 'not', 'null,', 'number', 'number,', 'numbers', 'of', 'on', 'one', 'opens', 'operations', 'or', 'original', 'other', 'pairs.', 'perform', 'person’s', 'pickle', 'player', 'players.\\\\n\",', 'players’', 'player’s', 'point.\\\\n\",', 'points,', 'points.', 'possible', 'printed', 'prints', 'program', 'program.', 'prompt', 'queens,', 'quiz', 'randomly', 'range', 'read', 'reads', 'repeat', 'responses.\\\\n\",', 'retrieve', 'room', 'rule:', 'save', 'second', 'second.\\\\n\",', 'set', 'set.\\\\n\",', 'should', 'simplified', 'simulates', 'simultaneously', 'so', 'special', 'specified', 'starts,', 'state', 'stored', 'symbol', 'team', 'teams', 'teams,', 'text', 'than', 'that', 'the', 'the\\\\n\",', 'them.', 'then', 'these', 'they', 'this', 'through', 'time', 'time.\\\\n\",', 'times', 'times\\\\n\",', 'to', 'track', 'two', 'typing_extensions', 'unique', 'unless', 'unpickle', 'unqie', 'until', 'up', 'use', 'user', 'uses', 'value', 'valued', 'values', 'values:\\\\n\",', 'version', 'when', 'where', 'where:\\\\n\",', 'which', 'will', 'winner.', 'winning', 'wins.)', 'with', 'won', 'won.\\\\n\",', 'word', 'word_index', 'word_index.txt,\\\\n\",', 'words', 'worth', 'write', 'year', 'year,', 'year.\\\\n\",', 'years,', 'zebra', 'zebra\\\\n\",', '{', '}', '},']\n",
            "\n",
            "Common words in both files:\n",
            "['\"', '\"#', '\"#@title', '\"\\'\\'\\'\"', '\"\\'\\'\\'\\\\n\",', '\"(symmetric_difference)\"', '\"1.', '\"2.', '\"3,', '\"3.', '\"4.', '\"4xfcPvLyGkUD\"', '\"5.The', '\"6IP5gn17Jlyz\"', '\"6KhJYGl-GJ-H\"', '\"Course', '\"Create', '\"Download', '\"Each', '\"Enhance', '\"Ex.', '\"Hint:', '\"If', '\"It', '\"N8a4OoNwF5xK\"', '\"Once', '\"PFWVWkPUHFJb\"', '\"PbzGK47PDNH1\"', '\"Porgram', '\"Program', '\"Python', '\"Reads', '\"The', '\"Then,', '\"U.S.', '\"VsJ1C1NqIaOR\"', '\"When', '\"Write', '\"\\\\n\",', '\"along', '\"ant', '\"ant,', '\"cCmOUIqUJOvP\"', '\"cell_type\":', '\"cells\":', '\"code\",', '\"colab\":', '\"display_name\":', '\"email', '\"execution_count\":', '\"file_1', '\"file_1.difference(file_2)\\\\n\",', '\"file_2', '\"file_2.difference(file_1)\\\\n\",', '\"following', '\"from', '\"id\":', '\"in', '\"kernelspec\":', '\"kmOINiwuC2TJ\"', '\"language_info\":', '\"listing', '\"markdown\",', '\"metadata\":', '\"name', '\"name\":', '\"nbformat\":', '\"nbformat_minor\":', '\"outputs\":', '\"ox1rmXuHCO-O\"', '\"points.', '\"provenance\":', '\"python\"', '\"python3\",', '\"screen.\\\\n\",', '\"source\":', '\"that', '\"vg0-6zPKCGhV\"', '\"will', '%;', '&;', '(It', '(Programming', '(inersection)\\\\n\",', '(the', '(union)\\\\n\",', '*\\\\n\",', '-', '.', '0,', '1', '1.Course', '10.Word', '10.\\\\n\",', '11', '11,', '1903', '1903-2009.\\\\n\",', '2', '2.Captial', '2009.', '21', '21\\\\n\",', '3\"', '3.File', '4,', '4.Unique', '5.Word', '6.File', '7.World', '8.Name', '9.Blackjack', '9:', ';', '=', 'A', 'Aces', 'Addresses\\\\n\",', 'All', 'Analysis\\\\n\",', 'B', 'Blackjack', 'C', 'Chapter', 'Decryption\\\\n\",', 'Dictionaries', 'Email', 'Encryption', 'Exercises)\"', 'File', 'Frequency\\\\n\",', 'In', 'Index\\\\n\",', 'Individual', 'Information\\\\n\",', 'Instructor', 'Jacks,', 'Key', 'Key:', 'Meeting', 'NewType\\\\n\",', 'Numeric', 'Quiz\\\\n\",', 'Room', 'Series', 'Series.\\\\n\",', 'Series’', 'Sets', 'Simulation\\\\n\",', \"State's\", 'Store', 'The', 'Use', 'Value\\\\n\",', 'Values:', 'Valuw\\\\n\",', 'Winner\\\\n\",', 'Words\\\\n\",', 'World', 'WorldSeriesWinners.txt,', '[', '[]', '\\\\n\",', ']', '],', 'a', 'according', 'ace', 'ace,', 'add', 'address,', 'address.', 'addresses', 'all', 'alphabet.', 'alphabetical', 'also', 'an', 'analyses.\\\\n\",', 'and', 'and\\\\n\",', 'another', 'ant\\\\n\",', 'appear', 'appears.', 'are', 'as', 'asking', 'assign', 'assigned', 'at', 'be', 'been', 'between', 'both', 'both.\\\\n\",', 'boy', 'boy,', 'built,', 'but', 'by', 'capital', 'capital.\\\\n\",', 'card', 'card_dealer.py', 'cards', 'case', 'case,', 'cat', 'cat,', 'change', 'choice.\\\\n\",', 'chronological', 'contain', 'contained', 'contains', 'contents', 'contents\\\\n\",', 'correct', 'course', 'create', 'deal', 'dealt', 'decide', 'deck.\\\\n\",', 'decrypted', 'delete', 'depending', 'dictionaries:\\\\n\",', 'dictionary', 'dictionary,', 'dictionary.', 'dictionary:\\\\n\",', 'display', 'displaying', 'displays', 'dog', 'each', 'either', 'element', 'elephant', 'elephant,', 'email', 'encrypted', 'enter', 'exceed', 'existing', 'exits', 'file', 'file,', 'file.', 'file.\\\\n\",', 'file_1\\\\n\",', 'file_2\\\\n\",', 'files', 'files.', 'files.\\\\n\",', 'first', 'first.\\\\n\",', 'fish', 'fish\\\\n\",', 'following', 'for', 'found', 'found.\\\\n\",', 'found\\\\n\",', 'fox', 'fox\\\\n\",', 'frequency', 'from', 'game', 'hand', 'hands\\\\n\",', 'happens,', 'has', 'have', 'import', 'in', 'incorrect', 'individual', 'instructor,', 'is', 'it', 'it.\\\\n\",', 'its', 'keep', 'keeps', 'key)', 'key-value', 'keys', 'kings', 'known', 'let', 'lets', 'letter', 'line', 'list', 'listing', 'lists:\\\\n\",', 'look', 'makes', 'meeting', 'menu', 'more', 'name', 'names', 'neither', 'new', 'new\\\\n\",', 'newt\\\\n\",', 'not', 'null,', 'number', 'number,', 'numbers', 'of', 'on', 'one', 'opens', 'operations', 'or', 'original', 'other', 'pairs.', 'perform', 'person’s', 'pickle', 'player', 'players.\\\\n\",', 'players’', 'player’s', 'point.\\\\n\",', 'points,', 'points.', 'possible', 'printed', 'prints', 'program', 'program.', 'prompt', 'queens,', 'quiz', 'randomly', 'range', 'read', 'reads', 'repeat', 'responses.\\\\n\",', 'retrieve', 'room', 'rule:', 'save', 'second', 'second.\\\\n\",', 'set', 'set.\\\\n\",', 'should', 'simplified', 'simulates', 'simultaneously', 'so', 'special', 'specified', 'starts,', 'state', 'stored', 'symbol', 'team', 'teams', 'teams,', 'text', 'than', 'that', 'the', 'the\\\\n\",', 'them.', 'then', 'these', 'they', 'this', 'through', 'time', 'time.\\\\n\",', 'times', 'times\\\\n\",', 'to', 'track', 'two', 'typing_extensions', 'unique', 'unless', 'unpickle', 'unqie', 'until', 'up', 'use', 'user', 'uses', 'value', 'valued', 'values', 'values:\\\\n\",', 'version', 'when', 'where', 'where:\\\\n\",', 'which', 'will', 'winner.', 'winning', 'wins.)', 'with', 'won', 'won.\\\\n\",', 'word', 'word_index', 'word_index.txt,\\\\n\",', 'words', 'worth', 'write', 'year', 'year,', 'year.\\\\n\",', 'years,', 'zebra', 'zebra\\\\n\",', '{', '}', '},']\n",
            "\n",
            "Words in the first file but not the second:\n",
            "[]\n",
            "\n",
            "Words in the second file but not the first:\n",
            "[]\n",
            "\n",
            "Words in either the first or second file, but not both:\n",
            "[]\n"
          ]
        }
      ],
      "source": [
        "with open('/content/ch9_programming_exercise (1).ipynb', 'r') as file1:\n",
        "    words1 = file1.read().split()\n",
        "\n",
        "\n",
        "with open('/content/ch9_programming_exercise (1).ipynb', 'r') as file2:\n",
        "    words2 = file2.read().split()\n",
        "\n",
        "unique_words = set(words1 + words2)\n",
        "\n",
        "common_words = list(set(words1) & set(words2))\n",
        "\n",
        "file1_only_words = list(set(words1) - set(words2))\n",
        "\n",
        "file2_only_words = list(set(words2) - set(words1))\n",
        "\n",
        "exclusive_words = list(set(words1) ^ set(words2))\n",
        "\n",
        "print(\"Unique words in both files:\")\n",
        "print(sorted(unique_words))\n",
        "print()\n",
        "\n",
        "print(\"Common words in both files:\")\n",
        "print(sorted(common_words))\n",
        "print()\n",
        "\n",
        "print(\"Words in the first file but not the second:\")\n",
        "print(sorted(file1_only_words))\n",
        "print()\n",
        "\n",
        "print(\"Words in the second file but not the first:\")\n",
        "print(sorted(file2_only_words))\n",
        "print()\n",
        "\n",
        "print(\"Words in either the first or second file, but not both:\")\n",
        "print(sorted(exclusive_words))\n"
      ]
    }
  ]
}