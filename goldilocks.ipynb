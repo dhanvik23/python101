{
  "nbformat": 4,
  "nbformat_minor": 0,
  "metadata": {
    "colab": {
      "provenance": [],
      "mount_file_id": "1J5mgNLHMcx8WpmPz5OIyuTMPVX_JHyKf",
      "authorship_tag": "ABX9TyNhyniNjpyXVKJG2zy58gcl",
      "include_colab_link": true
    },
    "kernelspec": {
      "name": "python3",
      "display_name": "Python 3"
    },
    "language_info": {
      "name": "python"
    }
  },
  "cells": [
    {
      "cell_type": "markdown",
      "metadata": {
        "id": "view-in-github",
        "colab_type": "text"
      },
      "source": [
        "<a href=\"https://colab.research.google.com/github/dhanvik23/python101/blob/main/goldilocks.ipynb\" target=\"_parent\"><img src=\"https://colab.research.google.com/assets/colab-badge.svg\" alt=\"Open In Colab\"/></a>"
      ]
    },
    {
      "cell_type": "code",
      "source": [
        "# Open the file for reading and create a file object\n",
        "file = open(\"/content/drive/My Drive/goldilocks.txt\", \"r\")\n",
        "\n",
        "# Read the whole text using readlines() method\n",
        "text = file.readlines()\n",
        "\n",
        "# Variables to keep track of the frequency of words\n",
        "papa_count = 0\n",
        "mama_count = 0\n",
        "\n",
        "# Traverse the list of lines\n",
        "for line in text:\n",
        "    # Split the line into words\n",
        "    words = line.split()\n",
        "    # Update the frequency of words as you go through the list\n",
        "    papa_count += words.count(\"Papa\")\n",
        "    mama_count += words.count(\"Mama\")\n",
        "\n",
        "# Close the file object\n",
        "file.close()\n",
        "\n",
        "# Print the answer\n",
        "print(\"The frequency of word 'Papa' is:\", papa_count)\n",
        "print(\"The frequency of word 'Mama' is:\", mama_count)\n"
      ],
      "metadata": {
        "id": "PsBtGV3Ks0TR"
      },
      "execution_count": null,
      "outputs": []
    }
  ]
}