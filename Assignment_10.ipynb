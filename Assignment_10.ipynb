{
  "nbformat": 4,
  "nbformat_minor": 0,
  "metadata": {
    "colab": {
      "provenance": [],
      "mount_file_id": "1_D7Kk3yP3c39g_D1t5yQ7rA8DalP5pOC",
      "authorship_tag": "ABX9TyMJcijcLzYskpVuS+SI7AaF",
      "include_colab_link": true
    },
    "kernelspec": {
      "name": "python3",
      "display_name": "Python 3"
    },
    "language_info": {
      "name": "python"
    }
  },
  "cells": [
    {
      "cell_type": "markdown",
      "metadata": {
        "id": "view-in-github",
        "colab_type": "text"
      },
      "source": [
        "<a href=\"https://colab.research.google.com/github/dhanvik23/python101/blob/main/Assignment_10.ipynb\" target=\"_parent\"><img src=\"https://colab.research.google.com/assets/colab-badge.svg\" alt=\"Open In Colab\"/></a>"
      ]
    },
    {
      "cell_type": "code",
      "execution_count": 3,
      "metadata": {
        "colab": {
          "base_uri": "https://localhost:8080/"
        },
        "id": "uaZAjq4FslfZ",
        "outputId": "7309903f-3b21-4804-a7d6-5c2ff8c30a1c"
      },
      "outputs": [
        {
          "output_type": "stream",
          "name": "stdout",
          "text": [
            "Enter the name of a team: Boston Red Sox\n",
            "The Boston Red Sox won the World Series 6 time(s) from 1903 through 2009.\n"
          ]
        }
      ],
      "source": [
        "with open('WorldSeriesWinners.txt', 'r') as file:\n",
        "    lines = file.read().splitlines()\n",
        "\n",
        "wins = {}\n",
        "\n",
        "for line in lines:\n",
        "    if line not in wins:\n",
        "        wins[line] = 0\n",
        "    wins[line] += 1\n",
        "\n",
        "team = input(\"Enter the name of a team: \")\n",
        "\n",
        "num_wins = wins.get(team, 0)\n",
        "\n",
        "print(f\"The {team} won the World Series {num_wins} time(s) from 1903 through 2009.\")\n"
      ]
    }
  ]
}