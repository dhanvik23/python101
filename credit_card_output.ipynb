{
  "nbformat": 4,
  "nbformat_minor": 0,
  "metadata": {
    "colab": {
      "provenance": [],
      "include_colab_link": true
    },
    "kernelspec": {
      "name": "python3",
      "display_name": "Python 3"
    },
    "language_info": {
      "name": "python"
    }
  },
  "cells": [
    {
      "cell_type": "markdown",
      "metadata": {
        "id": "view-in-github",
        "colab_type": "text"
      },
      "source": [
        "<a href=\"https://colab.research.google.com/github/dhanvik23/python101/blob/main/credit_card_output.ipynb\" target=\"_parent\"><img src=\"https://colab.research.google.com/assets/colab-badge.svg\" alt=\"Open In Colab\"/></a>"
      ]
    },
    {
      "cell_type": "code",
      "execution_count": null,
      "metadata": {
        "colab": {
          "base_uri": "https://localhost:8080/"
        },
        "id": "bcBlZeYNS9Lg",
        "outputId": "408a0e8a-d787-4764-81d5-4ca0af553964"
      },
      "outputs": [
        {
          "output_type": "stream",
          "name": "stdout",
          "text": [
            "new List values:  6011000000000004\n",
            "is_credit('6011000000000004') False\n",
            "new List values:  79927398713\n",
            "is_credit('79927398713') True\n",
            "new List values:  30000000000004\n",
            "is_credit('30000000000004') False\n",
            "new List values:  6911600873502604\n",
            "is_credit('6911600873502604') False\n",
            "new List values:  1234567890\n",
            "is_credit('1234567890') False\n",
            "is_credit('abcdefg')) False\n"
          ]
        }
      ],
      "source": [
        "def is_credit(new_list):\n",
        "\n",
        "#-->Check if the card number inputed are numbers. If not return false \n",
        "  if(not new_list.isnumeric()):\n",
        "    return False\n",
        "#-->Print the credit card number\n",
        "  print(\"new List values: \", new_list)\n",
        "\n",
        "#-->Make a new list containing the alternate numbers in the card number\n",
        "  alternate = []\n",
        "  alternate = new_list[1::2]\n",
        "  #print(\"alternate numbers: \", alternate)\n",
        "\n",
        "#-->Double the elements in the alternate list \n",
        "  double_digits = [int(ele) + int(ele) for ele in alternate]\n",
        "  #print(\" double the digits of alternate list: \", double_digits)\n",
        "\n",
        "#-->Find the sum of the digits of each element in the doubled list \n",
        "  digit_sum = list(map(lambda ele: sum(int(sub) for sub in str(ele)), double_digits))\n",
        "  #print(\"the sum of the digits: \", str(digit_sum))\n",
        "\n",
        "#-->Make a new list containing the other set of alternating numbers in the original credit card number \n",
        "  alternate_2 = []\n",
        "  alternate_2 = new_list[0::2]\n",
        "  #print(\"second alternate list: \", alternate_2)\n",
        "\n",
        "#-->Combine the list with the sum of the digits and the second alternating list. Alternate the elements of the two lists into one list\n",
        "  result = [None]*(len(alternate_2)+len(digit_sum))\n",
        "  result[::2] = alternate_2\n",
        "  result[1::2] = digit_sum\n",
        "  #print(\"big list\", result)\n",
        "\n",
        "#-->Find the sum of all the elements in the combined list\n",
        "  total = 0\n",
        "  ele = 0\n",
        "  while(ele < len(result)):\n",
        "    total = int(total) + int(result[ele])\n",
        "    ele += 1\n",
        "  #print(\"sum of elements in list: \", total)\n",
        "\n",
        "#-->If the sum of all elements is divisable my 10 then the number works, if not then it is an invalid number \n",
        "  if(total%10 == 0):\n",
        "    return True \n",
        "  else:\n",
        "    return False\n",
        "\n",
        "\n",
        "\n",
        "def main():\n",
        "  #print('\\n==>1. Basic test cases (positive)')\n",
        "  print(\"is_credit('6011000000000004')\", is_credit(\"6011000000000004\"))\n",
        "  print(\"is_credit('79927398713')\", is_credit(\"79927398713\"))\n",
        "  print(\"is_credit('30000000000004')\" ,is_credit(\"30000000000004\"))\n",
        "  print(\"is_credit('6911600873502604')\"  ,is_credit(\"6911600873502604\"))\n",
        "  print(\"is_credit('1234567890')\",  is_credit(\"1234567890\"))\n",
        "  print(\"is_credit('abcdefg'))\", is_credit(\"abcdefg\"))\n",
        "\n",
        "# call the main function\n",
        "main()\n"
      ]
    },
    {
      "cell_type": "code",
      "source": [],
      "metadata": {
        "id": "xWJbWXb3I69p"
      },
      "execution_count": null,
      "outputs": []
    },
    {
      "cell_type": "markdown",
      "source": [
        "double_digits = [ele + ele for ele in alternate]"
      ],
      "metadata": {
        "id": "vNPzc1dzH1yu"
      }
    },
    {
      "cell_type": "code",
      "source": [
        "_"
      ],
      "metadata": {
        "id": "mVwbiErQG8fC"
      },
      "execution_count": null,
      "outputs": []
    }
  ]
}