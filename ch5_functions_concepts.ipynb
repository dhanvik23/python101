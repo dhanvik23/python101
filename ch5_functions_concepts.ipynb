{
  "nbformat": 4,
  "nbformat_minor": 0,
  "metadata": {
    "colab": {
      "provenance": [],
      "include_colab_link": true
    },
    "kernelspec": {
      "name": "python3",
      "display_name": "Python 3"
    },
    "language_info": {
      "name": "python"
    }
  },
  "cells": [
    {
      "cell_type": "markdown",
      "metadata": {
        "id": "view-in-github",
        "colab_type": "text"
      },
      "source": [
        "<a href=\"https://colab.research.google.com/github/dhanvik23/python101/blob/main/ch5_functions_concepts.ipynb\" target=\"_parent\"><img src=\"https://colab.research.google.com/assets/colab-badge.svg\" alt=\"Open In Colab\"/></a>"
      ]
    },
    {
      "cell_type": "code",
      "execution_count": 7,
      "metadata": {
        "id": "jf7TN922Ray7",
        "colab": {
          "base_uri": "https://localhost:8080/"
        },
        "outputId": "9d3c51fd-d260-45ba-e7de-3ed919b2089d"
      },
      "outputs": [
        {
          "output_type": "stream",
          "name": "stdout",
          "text": [
            "max of 10,30 and 2:  30\n",
            "max of 4, 5, 5:  5\n",
            "max of 5, 5, 5:  5\n",
            "max of -2, 0, -3:  0\n",
            "max of 4, 5, 99:  99\n"
          ]
        }
      ],
      "source": [
        "#@title Assignment 8.1\n",
        "#1.  there are some bugs in this code. Please ensure this code is bug-free for all numbers and is working correctly.\n",
        "#2. Also test this function with different types of strings and ensures that it is working for the strings also.\n",
        "\n",
        "#3. you should the testing for\n",
        "'''\n",
        "- ints\n",
        "- floats\n",
        "- strings\n",
        "'''\n",
        "'''\n",
        "This function returns the maximum of three numbers or three strings.\n",
        "In the case strings, larger string appears later in the dictionary.\n",
        "'''\n",
        "def getMax(a, b, c):\n",
        "  if (a > b):\n",
        "    if (a > c):\n",
        "      return a\n",
        "    else:\n",
        "      return c\n",
        "  elif (b > c):\n",
        "    return b\n",
        "  else: \n",
        "    return c\n",
        "\n",
        "  \n",
        "# Call the function to test it\n",
        "# Take Away 1\n",
        "# Function Definition by itself doesn't mean anything\n",
        "# To make use of the function, you must call it (you must \"invoke\" it) \n",
        "# aka = method invocation\n",
        "\n",
        "# Take Away 2\n",
        "# Analogy: When you call Ola or Uber or Lyft, you need to get into the taxi\n",
        "# Analogy: When you order a pizza, you must consume it\n",
        "# Analogy: When you call a function, you should use the value returned by it\n",
        "\n",
        "x = getMax(10, 30, 2)\n",
        "print(\"max of 10,30 and 2: \", x)\n",
        "\n",
        "y = getMax(4, 5, 5)\n",
        "print(\"max of 4, 5, 5: \", y)\n",
        "\n",
        "z = getMax(5, 5, 5)\n",
        "print(\"max of 5, 5, 5: \", z)\n",
        "\n",
        "z = getMax(-2, 0, -3)\n",
        "print(\"max of -2, 0, -3: \", z)\n",
        "\n",
        "w = getMax(4, 5, 99)\n",
        "print(\"max of 4, 5, 99: \", w)\n"
      ]
    },
    {
      "cell_type": "code",
      "source": [
        "# tinkering with the functions\n",
        "#1. this will not work. CASE matters. We will get \"NameError\"\n",
        "a = getMax(3,4,5)\n",
        "\n",
        "#2. TypeError: Doesn't work. Expecting three, but you gave me only 2\n",
        "#b = getMax(2,3)\n",
        "\n",
        "#3. TypeError: Doesn't work. Expecting three, but you gave me 4\n",
        "#c = getMax(3,4,5,1)\n",
        "\n",
        "#4. Following works because we got lucky. 1. number of parameters matched\n",
        "# 2. comparison operators work on strings as well \n",
        "# Strings are checked in the dictionary order\n",
        "d = getMax(\"abc\", \"python\", \"dallas\")"
      ],
      "metadata": {
        "id": "5Hdo3wslZb5p"
      },
      "execution_count": null,
      "outputs": []
    },
    {
      "cell_type": "code",
      "source": [
        "def getLength(input_str):\n",
        "    x = len(input_str)\n",
        "    return x\n",
        "    \n",
        "# call the function\n",
        "\n",
        "a = getLength(\"ABC\")\n",
        "print(\"length of ABC: \", a)\n",
        "\n",
        "a = getLength(\"ABCD\")\n",
        "print(\"length of ABCD: \", a)\n",
        "\n",
        "\n",
        "a = getLength(\"Python\")\n",
        "print(\"length of Python: \", a)"
      ],
      "metadata": {
        "id": "Y-ZdL8MYRuhi",
        "colab": {
          "base_uri": "https://localhost:8080/"
        },
        "outputId": "8223b50b-45b4-44f2-b2f1-d49e2d3eeb58"
      },
      "execution_count": 4,
      "outputs": [
        {
          "output_type": "stream",
          "name": "stdout",
          "text": [
            "length of ABC:  3\n",
            "length of ABCD:  4\n",
            "length of Python:  6\n"
          ]
        }
      ]
    },
    {
      "cell_type": "code",
      "source": [
        "#@title Assignment 8.2\n",
        "# implement isLeapYear() function and perform the testing\n",
        "'''\n",
        "Function Contract: Function Documentation\n",
        "\n",
        "isLeapYear function returns True if the input_year is a leap year.\n",
        "Otherwise, it returns False.\n",
        "\n",
        "If the year divisible by 100  &  if the year divisible by 400\n",
        "then it is leap year  (feb = 29)\n",
        "\n",
        "if the year divisible by 100  &  the year divisible by 4\n",
        "then it is leap year  (feb = 29)\n",
        "\n",
        "otherwise, it is NOT a leap year (feb =28)\n",
        "\n",
        "'''\n",
        "\n",
        "def isLeapYear(input_year):\n",
        "  if (input_year%100 == 0):\n",
        "    print(input_year, \"is true\")\n",
        "  elif (input_year%400 == 0):\n",
        "    print(input_year, \"is true\")\n",
        "  elif(input_year%40 == 0):\n",
        "    print(input_year, \"is true\")\n",
        "  else: \n",
        "    print(input_year, \"is false\")\n",
        "\n",
        "a = isLeapYear(2000)\n",
        "b = isLeapYear(4005)\n",
        "c = isLeapYear(1428)\n",
        "d = isLeapYear(1550)\n",
        "e = isLeapYear(1800)\n",
        "\n",
        "    \n",
        "            \n",
        "# and do some testing with different year\n"
      ],
      "metadata": {
        "id": "iAHWHURVR0Hi",
        "colab": {
          "base_uri": "https://localhost:8080/"
        },
        "outputId": "e8470439-277c-460b-e8d5-a988997d940f"
      },
      "execution_count": 17,
      "outputs": [
        {
          "output_type": "stream",
          "name": "stdout",
          "text": [
            "2000 is true\n",
            "4005 is false\n",
            "1428 is false\n",
            "1550 is false\n",
            "1800 is true\n"
          ]
        }
      ]
    },
    {
      "cell_type": "code",
      "source": [
        "#@title Void-Returning Function (Returns \"None\")\n",
        "'''\n",
        "Given a number x, this method prints the sequence of numbers\n",
        "from 1 to the input number x\n",
        "'''\n",
        "\n",
        "def printSequence(x):\n",
        "    for i in range(1, x+1):\n",
        "        print(i, end= ' ')\n",
        "        \n",
        "# invoke the function\n",
        "# Using the return value None is not required\n",
        "# x = printSequence(5)\n",
        "# print(\"value returned be Void-returning function: \", x)\n",
        "\n",
        "printSequence(5)\n",
        "print()\n",
        "printSequence(10)\n",
        "print()\n",
        "printSequence(25)"
      ],
      "metadata": {
        "id": "g9qALkaeR21o",
        "colab": {
          "base_uri": "https://localhost:8080/"
        },
        "outputId": "e2d036d6-019e-495d-ad52-3bf943fd2fba"
      },
      "execution_count": 8,
      "outputs": [
        {
          "output_type": "stream",
          "name": "stdout",
          "text": [
            "1 2 3 4 5 \n",
            "1 2 3 4 5 6 7 8 9 10 \n",
            "1 2 3 4 5 6 7 8 9 10 11 12 13 14 15 16 17 18 19 20 21 22 23 24 25 "
          ]
        }
      ]
    },
    {
      "cell_type": "code",
      "source": [
        "# you can define all the functions at one place\n",
        "# Once those are tested and proved, you can use them any number of times.\n",
        "# ======= defining the functions\n",
        "\n",
        "def area_of_square(x):\n",
        "    return x*x\n",
        "    \n",
        "def area_of_circle(x):\n",
        "    import math\n",
        "    area = (math.pi) * x * x\n",
        "    return area\n",
        "    \n",
        "def area_of_rectangle(x,y):\n",
        "    area = x * y\n",
        "    return area\n",
        "    \n",
        "def perimeter_of_rectangle(x,y):\n",
        "    perimeter = (2*x) + (2*y)\n",
        "    return perimeter\n",
        "    \n",
        "\n",
        "# === invoking / calling the functions\n",
        "\n",
        "x = area_of_square(10)\n",
        "print(\"Area of Square(10): \", x)\n",
        "\n",
        "y = 10\n",
        "z = area_of_circle(y)\n",
        "print(\"Area of Circle(10): \", z)\n",
        "\n",
        "a = 5\n",
        "b = 10\n",
        "c = area_of_rectangle(a,b)\n",
        "print(\"Area of Rectangle(5, 10): \", c)\n",
        "\n",
        "\n",
        "d = perimeter_of_rectangle(a,b)\n",
        "print(\"Area of Perimeter of Rectangle(5, 10): \", d)\n"
      ],
      "metadata": {
        "colab": {
          "base_uri": "https://localhost:8080/"
        },
        "id": "YrhvjTA4fE9q",
        "outputId": "c51fda30-86d9-4c1e-c01d-c81c82e86c83"
      },
      "execution_count": null,
      "outputs": [
        {
          "output_type": "stream",
          "name": "stdout",
          "text": [
            "Area of Square(10):  100\n",
            "Area of Circle(10):  314.1592653589793\n",
            "Area of Rectangle(5, 10):  50\n",
            "Area of Perimeter of Rectangle(5, 10):  30\n"
          ]
        }
      ]
    },
    {
      "cell_type": "code",
      "source": [
        "# Menu-Driven Programming\n",
        "MENU_OPTION = '''\n",
        "                 1. Enter a student\n",
        "                 2. Edit a student\n",
        "                 3. Search for a student\n",
        "                 4. Help\n",
        "                 5. Quit\n",
        "              '''\n",
        "              \n",
        "def printMenu():\n",
        "    print(MENU_OPTION)\n",
        "    x = int(input(\"Make your choice\"))\n",
        "    return x\n",
        "    \n",
        "    \n",
        "def main():\n",
        "    while True:\n",
        "        x = printMenu()\n",
        "        if x == 5:\n",
        "            break\n",
        "        print(\"you have selected: \", x)\n",
        "        \n",
        "\n",
        "# call the main function\n",
        "main()"
      ],
      "metadata": {
        "id": "iJtqmwfThRI2"
      },
      "execution_count": null,
      "outputs": []
    }
  ]
}