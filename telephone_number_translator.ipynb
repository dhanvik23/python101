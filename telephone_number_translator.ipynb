{
  "nbformat": 4,
  "nbformat_minor": 0,
  "metadata": {
    "colab": {
      "provenance": [],
      "authorship_tag": "ABX9TyPDmxkmozgzCHphFsaITji+",
      "include_colab_link": true
    },
    "kernelspec": {
      "name": "python3",
      "display_name": "Python 3"
    },
    "language_info": {
      "name": "python"
    }
  },
  "cells": [
    {
      "cell_type": "markdown",
      "metadata": {
        "id": "view-in-github",
        "colab_type": "text"
      },
      "source": [
        "<a href=\"https://colab.research.google.com/github/dhanvik23/python101/blob/main/telephone_number_translator.ipynb\" target=\"_parent\"><img src=\"https://colab.research.google.com/assets/colab-badge.svg\" alt=\"Open In Colab\"/></a>"
      ]
    },
    {
      "cell_type": "code",
      "source": [
        "def translated_number(number):\n",
        "    #make a string of alphabets\n",
        "    alphabets = \"ABCDEFGHIJKLMNOPQRSTUVWXYZ\"\n",
        "    #make a string of numbers\n",
        "    numbers = \"22233344455566677778889999\"\n",
        "    # use the translate method to switch the alphabets with their correspondent numbers\n",
        "    translated_number = number.translate(str.maketrans(alphabets, numbers))\n",
        "    #return back the translated number\n",
        "    return translated_number\n",
        "\n",
        "#input number from the user\n",
        "input_number = input(\"Enter a 10-character telephone number in the format XXX-XXX-XXXX: \")\n",
        "# translate the telephone number and print the result\n",
        "print(translated_number(input_number))"
      ],
      "metadata": {
        "id": "s7MbLOzdVrHW"
      },
      "execution_count": null,
      "outputs": []
    }
  ]
}