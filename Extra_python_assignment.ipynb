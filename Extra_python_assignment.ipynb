{
  "nbformat": 4,
  "nbformat_minor": 0,
  "metadata": {
    "colab": {
      "provenance": [],
      "authorship_tag": "ABX9TyPHOEc+cJaYUNlLvjNb+D67",
      "include_colab_link": true
    },
    "kernelspec": {
      "name": "python3",
      "display_name": "Python 3"
    },
    "language_info": {
      "name": "python"
    }
  },
  "cells": [
    {
      "cell_type": "markdown",
      "metadata": {
        "id": "view-in-github",
        "colab_type": "text"
      },
      "source": [
        "<a href=\"https://colab.research.google.com/github/dhanvik23/python101/blob/main/Extra_python_assignment.ipynb\" target=\"_parent\"><img src=\"https://colab.research.google.com/assets/colab-badge.svg\" alt=\"Open In Colab\"/></a>"
      ]
    },
    {
      "cell_type": "code",
      "execution_count": 33,
      "metadata": {
        "colab": {
          "base_uri": "https://localhost:8080/"
        },
        "id": "UGHq5kTHPp_8",
        "outputId": "2a011a27-02ab-48ce-e42b-b99353420c50"
      },
      "outputs": [
        {
          "output_type": "stream",
          "name": "stdout",
          "text": [
            "enter numbers... Must be positive OR Enter a zero to end: 2\n",
            "Number  1 :   2\n",
            "enter numbers... Must be positive OR Enter a zero to end: 3\n",
            "Number  2 :   3\n",
            "enter numbers... Must be positive OR Enter a zero to end: 4\n",
            "Number  3 :   4\n",
            "enter numbers... Must be positive OR Enter a zero to end: 0\n",
            "Number  4 :   0\n",
            "Sum of all numbers entered:  9\n"
          ]
        }
      ],
      "source": [
        "#Enter numbers for the sum  \n",
        "sum = 0 #to calculate the sum of the entered numbers\n",
        "number1 = 1 #to start out the loop\n",
        "number = 0 #when printing to count the numbers put into the program \n",
        "\n",
        "while True: \n",
        "  number1 = int(input(\"enter numbers... Must be positive OR Enter a zero to end: \")) #Enter the numbers (must be positive.. Once all desired numbers are entered, enter 0 to end program)\n",
        "  number = number + 1 #to count numbers when printed \n",
        "  print(\"Number \", number, \":\" , \" \", number1 ) #prints each number that's entered into program \n",
        "  sum = sum + number1 #adds all the numbers together to find the sum \n",
        " \n",
        "#if the number entered is 0 the loop will stop \n",
        "  if(number1 == 0): \n",
        "    break\n",
        "   \n",
        "#once loop stops will print the sum of all the numbers entered \n",
        "print(\"Sum of all numbers entered: \", sum)\n",
        "\n",
        "\n",
        "\n"
      ]
    },
    {
      "cell_type": "markdown",
      "source": [
        "8. Sum of Numbers\n",
        "Write a program with a loop that asks the user to enter a series of positive numbers. The user\n",
        "should enter a negative number to signal the end of the series. After all the positive numbers\n",
        "have been entered, the program should display their sum."
      ],
      "metadata": {
        "id": "Uf1uQDvUTmNv"
      }
    }
  ]
}