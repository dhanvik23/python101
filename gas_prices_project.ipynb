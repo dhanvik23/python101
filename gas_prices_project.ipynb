{
  "nbformat": 4,
  "nbformat_minor": 0,
  "metadata": {
    "colab": {
      "provenance": [],
      "authorship_tag": "ABX9TyO7tokEQr9OdVgytRxjeKuX",
      "include_colab_link": true
    },
    "kernelspec": {
      "name": "python3",
      "display_name": "Python 3"
    },
    "language_info": {
      "name": "python"
    }
  },
  "cells": [
    {
      "cell_type": "markdown",
      "metadata": {
        "id": "view-in-github",
        "colab_type": "text"
      },
      "source": [
        "<a href=\"https://colab.research.google.com/github/dhanvik23/python101/blob/main/gas_prices_project.ipynb\" target=\"_parent\"><img src=\"https://colab.research.google.com/assets/colab-badge.svg\" alt=\"Open In Colab\"/></a>"
      ]
    },
    {
      "cell_type": "code",
      "execution_count": null,
      "metadata": {
        "id": "M8i4nRpN_lcS"
      },
      "outputs": [],
      "source": [
        "from collections import defaultdict\n",
        "\n",
        "# create a dictionary to store the prices for each year\n",
        "prices_by_year = defaultdict(list)\n",
        "\n",
        "# read the contents of the file and extract the year and price information from each line\n",
        "with open('gasprices.txt') as f:\n",
        "    for line in f:\n",
        "        date, price = line.strip().split(':')\n",
        "        year = int(date[-4:])\n",
        "        prices_by_year[year].append(float(price))\n",
        "\n",
        "# calculate the average price for each year\n",
        "for year in range(1993, 2014):\n",
        "    if year in prices_by_year:\n",
        "        avg_price = sum(prices_by_year[year]) / len(prices_by_year[year])\n",
        "        print(f'Average price for {year}: ${avg_price:.2f}')"
      ]
    },
    {
      "cell_type": "code",
      "source": [
        "import datetime\n",
        "from collections import defaultdict\n",
        "\n",
        "# Create a defaultdict to store the total price and number of occurrences for each month\n",
        "prices_per_month = defaultdict(lambda: {'total_price': 0, 'count': 0})\n",
        "\n",
        "# Open the file and iterate over the lines\n",
        "with open('gasprices.txt') as f:\n",
        "  for line in f:\n",
        "    # Parse the date and price from the line\n",
        "    date_str, price_str = line.strip().split(':')\n",
        "    date = datetime.datetime.strptime(date_str, '%m-%d-%Y')\n",
        "    price = float(price_str)\n",
        "\n",
        "    # Add the price to the total for the corresponding month\n",
        "    month_key = (date.year, date.month)\n",
        "    prices_per_month[month_key]['total_price'] += price\n",
        "    prices_per_month[month_key]['count'] += 1\n",
        "\n",
        "# Calculate the average price for each month and print the results\n",
        "for year, month in prices_per_month:\n",
        "  total_price = prices_per_month[(year, month)]['total_price']\n",
        "  count = prices_per_month[(year, month)]['count']\n",
        "  average_price = total_price / count\n",
        "  print(f'{year}-{month:02d}: {average_price:.2f}')"
      ],
      "metadata": {
        "id": "mDLPfPdm_uek"
      },
      "execution_count": null,
      "outputs": []
    },
    {
      "cell_type": "code",
      "source": [
        "from collections import defaultdict\n",
        "\n",
        "# create a defaultdict to store the highest and lowest prices for each year\n",
        "yearly_prices = defaultdict(lambda: {'max_price': None, 'max_date': None, 'min_price': None, 'min_date': None})\n",
        "\n",
        "# read the contents of the file and extract the year and price information from each line\n",
        "with open('gasprices.txt') as f:\n",
        "    for line in f:\n",
        "        date, price = line.strip().split(':')\n",
        "        year = int(date[-4:])\n",
        "        price = float(price)\n",
        "\n",
        "        # check if the current price is higher or lower than the current max/min price for the year\n",
        "        if yearly_prices[year]['max_price'] is None or price > yearly_prices[year]['max_price']:\n",
        "            yearly_prices[year]['max_price'] = price\n",
        "            yearly_prices[year]['max_date'] = date\n",
        "        if yearly_prices[year]['min_price'] is None or price < yearly_prices[year]['min_price']:\n",
        "            yearly_prices[year]['min_price'] = price\n",
        "            yearly_prices[year]['min_date'] = date\n",
        "\n",
        "# print the results for each year\n",
        "for year, prices in yearly_prices.items():\n",
        "    print(f\"Year {year}:\")\n",
        "    print(f\"Highest Price: {prices['max_price']} on {prices['max_date']}\")\n",
        "    print(f\"Lowest Price: {prices['min_price']} on {prices['min_date']}\")\n",
        "    print(\" \")\n"
      ],
      "metadata": {
        "id": "ejsBqFr9AhEq"
      },
      "execution_count": null,
      "outputs": []
    },
    {
      "cell_type": "code",
      "source": [
        "# create an empty list to store the prices\n",
        "prices = []\n",
        "\n",
        "# loop through each line in the file\n",
        "with open('gasprices.txt') as f:\n",
        "    for line in f:\n",
        "        # extract the date and price information from each line\n",
        "        date, price = line.strip().split(':')\n",
        "        year = date[-4:]\n",
        "        price = float(price)\n",
        "\n",
        "        # add the price to the list\n",
        "        prices.append((date, price))\n",
        "\n",
        "# sort the prices in ascending order\n",
        "prices.sort(key=lambda x: x[1])\n",
        "\n",
        "# write the sorted prices to a text file\n",
        "with open('sorted_prices.txt', 'w') as f:\n",
        "    for date, price in prices:\n",
        "        f.write(f\"{date}: {price:.2f}\\n\")\n"
      ],
      "metadata": {
        "id": "XeWodch4kp2J"
      },
      "execution_count": 3,
      "outputs": []
    },
    {
      "cell_type": "code",
      "source": [
        "# create an empty list to store the prices\n",
        "prices = []\n",
        "\n",
        "# loop through each line in the file\n",
        "with open('gasprices.txt') as f:\n",
        "    for line in f:\n",
        "        # extract the date and price information from each line\n",
        "        date, price = line.strip().split(':')\n",
        "        year = date[-4:]\n",
        "        price = float(price)\n",
        "\n",
        "        # add the price to the list\n",
        "        prices.append((date, price))\n",
        "\n",
        "# sort the prices in descending order\n",
        "prices.sort(key=lambda x: x[1], reverse=True)\n",
        "\n",
        "# write the sorted prices to a text file\n",
        "with open('sorted_prices_desc.txt', 'w') as f:\n",
        "    for date, price in prices:\n",
        "        f.write(f\"{date}: {price:.2f}\\n\")\n"
      ],
      "metadata": {
        "id": "S1vitHiqmACc"
      },
      "execution_count": 4,
      "outputs": []
    }
  ]
}