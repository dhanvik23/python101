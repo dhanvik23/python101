{
  "nbformat": 4,
  "nbformat_minor": 0,
  "metadata": {
    "colab": {
      "provenance": [],
      "authorship_tag": "ABX9TyPQsBMVHNlQ2tVkaVj39jdL",
      "include_colab_link": true
    },
    "kernelspec": {
      "name": "python3",
      "display_name": "Python 3"
    },
    "language_info": {
      "name": "python"
    }
  },
  "cells": [
    {
      "cell_type": "markdown",
      "metadata": {
        "id": "view-in-github",
        "colab_type": "text"
      },
      "source": [
        "<a href=\"https://colab.research.google.com/github/dhanvik23/python101/blob/main/3_11_python.ipynb\" target=\"_parent\"><img src=\"https://colab.research.google.com/assets/colab-badge.svg\" alt=\"Open In Colab\"/></a>"
      ]
    },
    {
      "cell_type": "code",
      "execution_count": 3,
      "metadata": {
        "colab": {
          "base_uri": "https://localhost:8080/"
        },
        "id": "Kpj4mBrhkP3Z",
        "outputId": "5b89dd83-76b0-4069-cb9c-9ba465b8d96d"
      },
      "outputs": [
        {
          "output_type": "stream",
          "name": "stdout",
          "text": [
            "enter number of books read6\n",
            "30\n"
          ]
        }
      ],
      "source": [
        "#Assignemt 3.11\n",
        "\n",
        "books = float(input(\"enter number of books read\"))\n",
        "\n",
        "if(books == 0):\n",
        "  print(\"0\")\n",
        "\n",
        "if(books == 2):\n",
        "  print(\"5\")\n",
        "\n",
        "if(books == 4):\n",
        "  print(\"15\")\n",
        "\n",
        "if(books == 6):\n",
        "  print(\"30\")\n",
        "\n",
        "if(books == 8):\n",
        "  print(\"60\")"
      ]
    }
  ]
}