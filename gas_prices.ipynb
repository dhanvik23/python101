{
  "nbformat": 4,
  "nbformat_minor": 0,
  "metadata": {
    "colab": {
      "provenance": [],
      "mount_file_id": "11Zj5CkXmeS9uSOT9fJ3BUC9L2928Kntr",
      "authorship_tag": "ABX9TyMq8kX1+mPqibEdYZ11iypQ",
      "include_colab_link": true
    },
    "kernelspec": {
      "name": "python3",
      "display_name": "Python 3"
    },
    "language_info": {
      "name": "python"
    }
  },
  "cells": [
    {
      "cell_type": "markdown",
      "metadata": {
        "id": "view-in-github",
        "colab_type": "text"
      },
      "source": [
        "<a href=\"https://colab.research.google.com/github/dhanvik23/python101/blob/main/gas_prices.ipynb\" target=\"_parent\"><img src=\"https://colab.research.google.com/assets/colab-badge.svg\" alt=\"Open In Colab\"/></a>"
      ]
    },
    {
      "cell_type": "code",
      "execution_count": null,
      "metadata": {
        "id": "mdi0JNGySoR5"
      },
      "outputs": [],
      "source": [
        "try:\n",
        "    with open(\"gasprices.txt\") as file:\n",
        "        lines = file.readlines()\n",
        "        for i, line in enumerate(lines):\n",
        "            elements = line.split()\n",
        "            print(f\"[{i + 1}]\\nMonth: {elements[0]}\\nDay: {elements[1]}\\nYear: {elements[2]}\\nPrice: {elements[3]}\")\n",
        "except FileNotFoundError:\n",
        "    print(\"The file gasprices.txt was not found.\")\n"
      ]
    }
  ]
}