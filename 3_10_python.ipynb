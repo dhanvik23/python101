{
  "nbformat": 4,
  "nbformat_minor": 0,
  "metadata": {
    "colab": {
      "provenance": [],
      "authorship_tag": "ABX9TyPlSkTMoK1a8QF1LxLH3kHB",
      "include_colab_link": true
    },
    "kernelspec": {
      "name": "python3",
      "display_name": "Python 3"
    },
    "language_info": {
      "name": "python"
    }
  },
  "cells": [
    {
      "cell_type": "markdown",
      "metadata": {
        "id": "view-in-github",
        "colab_type": "text"
      },
      "source": [
        "<a href=\"https://colab.research.google.com/github/dhanvik23/python101/blob/main/3_10_python.ipynb\" target=\"_parent\"><img src=\"https://colab.research.google.com/assets/colab-badge.svg\" alt=\"Open In Colab\"/></a>"
      ]
    },
    {
      "cell_type": "code",
      "source": [
        "#Assingment 3.10\n",
        "pennies= float(input(\"enter number of pennies\"))\n",
        "nickels= float(input(\"enter number of nickels\"))\n",
        "dimes= float(input(\"enter number of dimes\"))\n",
        "quarters= float(input(\"enter number of quarters\"))\n",
        "\n",
        "penny= .01\n",
        "nickel0= .05\n",
        "dime= .1\n",
        "quarter= .25\n",
        "\n",
        "total = penny*pennies + nickel*nickels + dime*dimes + quarter*quarters\n",
        "print(\"total money\", total)\n",
        "\n",
        "if(total == 1.00):\n",
        "  print(\"CONGRADULATIONS\")\n",
        "elif (total < 1):\n",
        "  print (\"less than a dollar\")\n",
        "elif (total >1):\n",
        "  print(\"more than a dollar\")\n"
      ],
      "metadata": {
        "colab": {
          "base_uri": "https://localhost:8080/"
        },
        "id": "JjX1iaysZuvz",
        "outputId": "ae68aecc-f54d-4dd8-eb96-9b62a01d6a4a"
      },
      "execution_count": 17,
      "outputs": [
        {
          "output_type": "stream",
          "name": "stdout",
          "text": [
            "enter number of pennies76\n",
            "enter number of nickels8\n",
            "enter number of dimes3\n",
            "enter number of quarters0\n",
            "total money 1.4600000000000002\n",
            "more than a dollar\n"
          ]
        }
      ]
    }
  ]
}